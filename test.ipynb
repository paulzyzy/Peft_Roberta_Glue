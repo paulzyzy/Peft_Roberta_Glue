{
 "cells": [
  {
   "cell_type": "code",
   "execution_count": 6,
   "metadata": {},
   "outputs": [],
   "source": [
    "import argparse\n",
    "import torch\n",
    "import numpy as np\n",
    "from datasets import load_dataset\n",
    "import evaluate\n",
    "from transformers import (\n",
    "    AutoTokenizer,\n",
    "    AutoModelForSequenceClassification,\n",
    "    PretrainedConfig,\n",
    "    default_data_collator,\n",
    "    TrainingArguments,\n",
    "    Trainer,\n",
    "    EvalPrediction,\n",
    "    AutoConfig,\n",
    ")\n",
    "import logging\n",
    "from peft import PeftModel, AutoPeftModelForSequenceClassification\n",
    "from torch.utils.data import DataLoader\n",
    "import random\n",
    "from Xlora.xlora import add_xlora_to_model\n",
    "from Xlora.xlora_config import xLoRAConfig\n",
    "from Xlora.xlora_utils import load_model"
   ]
  },
  {
   "cell_type": "code",
   "execution_count": null,
   "metadata": {},
   "outputs": [],
   "source": [
    "# @TODO: fill in the test args\n",
    "tase_name = 'mrpc'\n",
    "max_seq_length = 512\n",
    "padding = \"max_length\"\n",
    "model_name = \"roberta-base\"\n",
    "lora_model_dir = \n",
    "metric ="
   ]
  },
  {
   "cell_type": "code",
   "execution_count": null,
   "metadata": {},
   "outputs": [
    {
     "ename": "NameError",
     "evalue": "name 'args' is not defined",
     "output_type": "error",
     "traceback": [
      "\u001b[0;31m---------------------------------------------------------------------------\u001b[0m",
      "\u001b[0;31mNameError\u001b[0m                                 Traceback (most recent call last)",
      "Cell \u001b[0;32mIn[5], line 10\u001b[0m\n\u001b[1;32m      7\u001b[0m torch\u001b[38;5;241m.\u001b[39mbackends\u001b[38;5;241m.\u001b[39mcudnn\u001b[38;5;241m.\u001b[39mbenchmark \u001b[38;5;241m=\u001b[39m \u001b[38;5;28;01mFalse\u001b[39;00m\n\u001b[1;32m      9\u001b[0m \u001b[38;5;66;03m# Determine if this is a regression task (e.g. stsb)\u001b[39;00m\n\u001b[0;32m---> 10\u001b[0m is_regression \u001b[38;5;241m=\u001b[39m \u001b[43margs\u001b[49m\u001b[38;5;241m.\u001b[39mtask_name \u001b[38;5;241m==\u001b[39m \u001b[38;5;124m\"\u001b[39m\u001b[38;5;124mstsb\u001b[39m\u001b[38;5;124m\"\u001b[39m\n\u001b[1;32m     12\u001b[0m \u001b[38;5;66;03m# Load the dataset and evaluation metric\u001b[39;00m\n\u001b[1;32m     13\u001b[0m datasets \u001b[38;5;241m=\u001b[39m load_dataset(\u001b[38;5;124m\"\u001b[39m\u001b[38;5;124mglue\u001b[39m\u001b[38;5;124m\"\u001b[39m, args\u001b[38;5;241m.\u001b[39mtask_name)\n",
      "\u001b[0;31mNameError\u001b[0m: name 'args' is not defined"
     ]
    }
   ],
   "source": [
    "seed = 42\n",
    "random.seed(seed)\n",
    "np.random.seed(seed)\n",
    "torch.manual_seed(seed)\n",
    "torch.cuda.manual_seed_all(seed)\n",
    "torch.backends.cudnn.deterministic = True\n",
    "torch.backends.cudnn.benchmark = False\n",
    "\n",
    "# Determine if this is a regression task (e.g. stsb)\n",
    "is_regression = task_name == \"stsb\"\n",
    "\n",
    "# Load the dataset and evaluation metric\n",
    "datasets = load_dataset(\"glue\", task_name)\n",
    "if not is_regression:\n",
    "    label_list = datasets[\"train\"].features[\"label\"].names\n",
    "    num_labels = len(label_list)\n",
    "else:\n",
    "    num_labels = 1\n",
    "metric = evaluate.load(\"glue\", task_name)\n",
    "\n",
    "task_to_keys = {\n",
    "    \"cola\": (\"sentence\", None),\n",
    "    \"mnli\": (\"premise\", \"hypothesis\"),\n",
    "    \"mrpc\": (\"sentence1\", \"sentence2\"),\n",
    "    \"qnli\": (\"question\", \"sentence\"),\n",
    "    \"qqp\": (\"question1\", \"question2\"),\n",
    "    \"rte\": (\"sentence1\", \"sentence2\"),\n",
    "    \"sst2\": (\"sentence\", None),\n",
    "    \"stsb\": (\"sentence1\", \"sentence2\"),\n",
    "    \"wnli\": (\"sentence1\", \"sentence2\"),\n",
    "}"
   ]
  },
  {
   "cell_type": "code",
   "execution_count": null,
   "metadata": {},
   "outputs": [],
   "source": [
    "    # Load base model and tokenizer\n",
    "model = AutoModelForSequenceClassification.from_pretrained(args.model_name, num_labels=num_labels)\n",
    "tokenizer = AutoTokenizer.from_pretrained(args.model_name, use_fast=True)\n",
    "args.max_seq_length = min(args.max_seq_length, tokenizer.model_max_length)\n",
    "sentence1_key, sentence2_key = task_to_keys[args.task_name]"
   ]
  },
  {
   "cell_type": "code",
   "execution_count": null,
   "metadata": {},
   "outputs": [],
   "source": [
    "def compute_metrics(p: EvalPrediction):\n",
    "    preds = p.predictions[0] if isinstance(p.predictions, tuple) else p.predictions\n",
    "    preds = np.squeeze(preds) if is_regression else np.argmax(preds, axis=1)\n",
    "    if args.task_name is not None:\n",
    "        result = metric.compute(predictions=preds, references=p.label_ids)\n",
    "        if len(result) > 1:\n",
    "            result[\"combined_score\"] = np.mean(list(result.values())).item()\n",
    "        return result\n",
    "    elif is_regression:\n",
    "        return {\"mse\": ((preds - p.label_ids) ** 2).mean().item()}\n",
    "# Preprocessing function for tokenization\n",
    "def preprocess_function(examples):\n",
    "    tokens = (examples[sentence1_key],) if sentence2_key is None else (examples[sentence1_key], examples[sentence2_key])\n",
    "    result = tokenizer(*tokens, padding=args.padding, max_length=args.max_seq_length, truncation=True)\n",
    "    if label_to_id is not None and \"label\" in examples:\n",
    "        result[\"label\"] = [label_to_id[l] if l != -1 else -1 for l in examples[\"label\"]]\n",
    "    return result"
   ]
  },
  {
   "cell_type": "code",
   "execution_count": null,
   "metadata": {},
   "outputs": [],
   "source": [
    "# Handle label mapping if needed\n",
    "label_to_id = None\n",
    "if (\n",
    "    model.config.label2id != PretrainedConfig(num_labels=num_labels).label2id\n",
    "    and args.task_name is not None\n",
    "    and not is_regression\n",
    "):\n",
    "    label_name_to_id = {k.lower(): v for k, v in model.config.label2id.items()}\n",
    "    if list(sorted(label_name_to_id.keys())) == list(sorted(label_list)):\n",
    "        label_to_id = {i: int(label_name_to_id[label_list[i]]) for i in range(num_labels)}\n",
    "    else:\n",
    "        logger.warning(\n",
    "            \"Model labels do not match dataset labels. \"\n",
    "            f\"Model labels: {list(sorted(label_name_to_id.keys()))}, Dataset labels: {list(sorted(label_list))}.\"\n",
    "            \" Ignoring model labels.\"\n",
    "        )\n",
    "elif args.task_name is None and not is_regression:\n",
    "    label_to_id = {v: i for i, v in enumerate(label_list)}"
   ]
  },
  {
   "cell_type": "code",
   "execution_count": null,
   "metadata": {},
   "outputs": [],
   "source": [
    "datasets = datasets.map(preprocess_function, batched=True, load_from_cache_file=True)\n",
    "train_dataset = datasets[\"train\"]\n",
    "eval_dataset = datasets[\"validation_matched\" if args.task_name == \"mnli\" else \"validation\"]\n",
    "test_dataset = datasets[\"test_matched\" if args.task_name == \"mnli\" else \"test\"]\n",
    "data_collator = default_data_collator\n",
    "\n",
    "tasks = [args.task_name]\n",
    "eval_datasets = [eval_dataset]\n",
    "if args.task_name == \"mnli\":\n",
    "    tasks.append(\"mnli-mm\")\n",
    "    eval_datasets.append(datasets[\"validation_mismatched\"])"
   ]
  },
  {
   "cell_type": "code",
   "execution_count": null,
   "metadata": {},
   "outputs": [],
   "source": [
    "XLoRA_model_name = args.lora_model_dir\n",
    "XLoRA_model, tokenizer = load_model(\n",
    "    model_name=XLoRA_model_name,\n",
    "    device=\"cuda:0\",\n",
    "    dtype=torch.bfloat16,\n",
    "    load_xlora=True,\n",
    "    adapters={\n",
    "        \"adapter_1\": \"./lora_finetuned_model_cola\",\n",
    "        \"adapter_2\": \"./lora_finetuned_model_mrpc\",\n",
    "        \"adapter_3\": \"./lora_finetuned_model_qnli\",\n",
    "        \"adapter_4\": \"./lora_finetuned_model_sst2\",\n",
    "    },\n",
    ")"
   ]
  },
  {
   "cell_type": "code",
   "execution_count": null,
   "metadata": {},
   "outputs": [],
   "source": [
    "trainer = Trainer(\n",
    "    model=XLoRA_model,\n",
    "    args=TrainingArguments(\n",
    "        output_dir=\"./peft_test_results\",\n",
    "        report_to=\"none\",\n",
    "    ),\n",
    "    data_collator=data_collator,           \n",
    "    compute_metrics=compute_metrics\n",
    ")\n",
    "for eval_dataset, task in zip(eval_datasets, tasks):\n",
    "    metrics = trainer.evaluate(eval_dataset=eval_dataset)\n",
    "    print(metrics)"
   ]
  }
 ],
 "metadata": {
  "kernelspec": {
   "display_name": "Python (Docker)",
   "language": "python",
   "name": "docker_env"
  },
  "language_info": {
   "codemirror_mode": {
    "name": "ipython",
    "version": 3
   },
   "file_extension": ".py",
   "mimetype": "text/x-python",
   "name": "python",
   "nbconvert_exporter": "python",
   "pygments_lexer": "ipython3",
   "version": "3.10.11"
  }
 },
 "nbformat": 4,
 "nbformat_minor": 2
}
