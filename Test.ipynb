{
 "cells": [
  {
   "cell_type": "code",
   "execution_count": 5,
   "metadata": {},
   "outputs": [],
   "source": [
    "import argparse\n",
    "import torch\n",
    "import numpy as np\n",
    "from datasets import load_dataset\n",
    "import evaluate\n",
    "from transformers import (\n",
    "    AutoTokenizer,\n",
    "    AutoModelForSequenceClassification,\n",
    "    PretrainedConfig,\n",
    "    default_data_collator,\n",
    "    TrainingArguments,\n",
    "    Trainer,\n",
    "    EvalPrediction,\n",
    "    AutoConfig,\n",
    ")\n",
    "import logging\n",
    "from peft import PeftModel, AutoPeftModelForSequenceClassification\n",
    "from torch.utils.data import DataLoader\n",
    "import random\n",
    "from Xlora.xlora import add_xlora_to_model\n",
    "from Xlora.xlora_config import xLoRAConfig\n",
    "from Xlora.xlora_utils import load_model\n",
    "from sklearn.metrics import accuracy_score, f1_score"
   ]
  },
  {
   "cell_type": "code",
   "execution_count": null,
   "metadata": {},
   "outputs": [],
   "source": [
    "# @TODO: fill in the test args\n",
    "task_name = 'mrpc'\n",
    "max_seq_length = 512\n",
    "padding = \"max_length\"\n",
    "model_name = \"roberta-base\"\n",
    "lora_model_dir = \"./xlora_finetuned_model\" "
   ]
  },
  {
   "cell_type": "code",
   "execution_count": 7,
   "metadata": {},
   "outputs": [],
   "source": [
    "# pip install scikit-learn"
   ]
  },
  {
   "cell_type": "code",
   "execution_count": 8,
   "metadata": {},
   "outputs": [],
   "source": [
    "seed = 42\n",
    "random.seed(seed)\n",
    "np.random.seed(seed)\n",
    "torch.manual_seed(seed)\n",
    "torch.cuda.manual_seed_all(seed)\n",
    "torch.backends.cudnn.deterministic = True\n",
    "torch.backends.cudnn.benchmark = False\n",
    "\n",
    "# Determine if this is a regression task (e.g. stsb)\n",
    "is_regression = task_name == \"stsb\"\n",
    "\n",
    "# Load the dataset and evaluation metric\n",
    "datasets = load_dataset(\"glue\", task_name)\n",
    "if not is_regression:\n",
    "    label_list = datasets[\"train\"].features[\"label\"].names\n",
    "    num_labels = len(label_list)\n",
    "else:\n",
    "    num_labels = 1\n",
    "metric = evaluate.load(\"glue\", task_name)\n",
    "\n",
    "task_to_keys = {\n",
    "    \"cola\": (\"sentence\", None),\n",
    "    \"mnli\": (\"premise\", \"hypothesis\"),\n",
    "    \"mrpc\": (\"sentence1\", \"sentence2\"),\n",
    "    \"qnli\": (\"question\", \"sentence\"),\n",
    "    \"qqp\": (\"question1\", \"question2\"),\n",
    "    \"rte\": (\"sentence1\", \"sentence2\"),\n",
    "    \"sst2\": (\"sentence\", None),\n",
    "    \"stsb\": (\"sentence1\", \"sentence2\"),\n",
    "    \"wnli\": (\"sentence1\", \"sentence2\"),\n",
    "}"
   ]
  },
  {
   "cell_type": "code",
   "execution_count": 9,
   "metadata": {},
   "outputs": [
    {
     "name": "stderr",
     "output_type": "stream",
     "text": [
      "Some weights of RobertaForSequenceClassification were not initialized from the model checkpoint at roberta-base and are newly initialized: ['classifier.dense.bias', 'classifier.dense.weight', 'classifier.out_proj.bias', 'classifier.out_proj.weight']\n",
      "You should probably TRAIN this model on a down-stream task to be able to use it for predictions and inference.\n"
     ]
    }
   ],
   "source": [
    "    # Load base model and tokenizer\n",
    "model = AutoModelForSequenceClassification.from_pretrained(model_name, num_labels=num_labels)\n",
    "tokenizer = AutoTokenizer.from_pretrained(model_name, use_fast=True)\n",
    "max_seq_length = min(max_seq_length, tokenizer.model_max_length)\n",
    "sentence1_key, sentence2_key = task_to_keys[task_name]"
   ]
  },
  {
   "cell_type": "code",
   "execution_count": 10,
   "metadata": {},
   "outputs": [],
   "source": [
    "def compute_metrics(p: EvalPrediction):\n",
    "    preds = p.predictions[0] if isinstance(p.predictions, tuple) else p.predictions\n",
    "    preds = np.squeeze(preds) if is_regression else np.argmax(preds, axis=1)\n",
    "    if task_name is not None:\n",
    "        result = metric.compute(predictions=preds, references=p.label_ids)\n",
    "        if len(result) > 1:\n",
    "            result[\"combined_score\"] = np.mean(list(result.values())).item()\n",
    "        return result\n",
    "    elif is_regression:\n",
    "        return {\"mse\": ((preds - p.label_ids) ** 2).mean().item()}"
   ]
  },
  {
   "cell_type": "code",
   "execution_count": 11,
   "metadata": {},
   "outputs": [],
   "source": [
    "# Handle label mapping if needed\n",
    "logger = logging.getLogger(__name__)\n",
    "label_to_id = None\n",
    "if (\n",
    "    model.config.label2id != PretrainedConfig(num_labels=num_labels).label2id\n",
    "    and task_name is not None\n",
    "    and not is_regression\n",
    "):\n",
    "    label_name_to_id = {k.lower(): v for k, v in model.config.label2id.items()}\n",
    "    if list(sorted(label_name_to_id.keys())) == list(sorted(label_list)):\n",
    "        label_to_id = {i: int(label_name_to_id[label_list[i]]) for i in range(num_labels)}\n",
    "    else:\n",
    "        logger.warning(\n",
    "            \"Model labels do not match dataset labels. \"\n",
    "            f\"Model labels: {list(sorted(label_name_to_id.keys()))}, Dataset labels: {list(sorted(label_list))}.\"\n",
    "            \" Ignoring model labels.\"\n",
    "        )\n",
    "elif task_name is None and not is_regression:\n",
    "    label_to_id = {v: i for i, v in enumerate(label_list)}\n",
    "\n",
    "# Preprocessing function for tokenization\n",
    "def preprocess_function(examples):\n",
    "    tokens = (examples[sentence1_key],) if sentence2_key is None else (examples[sentence1_key], examples[sentence2_key])\n",
    "    result = tokenizer(*tokens, padding=padding, max_length=max_seq_length, truncation=True)\n",
    "    if label_to_id is not None and \"label\" in examples:\n",
    "        result[\"label\"] = [label_to_id[l] if l != -1 else -1 for l in examples[\"label\"]]\n",
    "    return result"
   ]
  },
  {
   "cell_type": "code",
   "execution_count": 12,
   "metadata": {},
   "outputs": [
    {
     "data": {
      "application/vnd.jupyter.widget-view+json": {
       "model_id": "55e9948d3a824dbf984ac11c8ddcd314",
       "version_major": 2,
       "version_minor": 0
      },
      "text/plain": [
       "Map:   0%|          | 0/408 [00:00<?, ? examples/s]"
      ]
     },
     "metadata": {},
     "output_type": "display_data"
    }
   ],
   "source": [
    "datasets = datasets.map(preprocess_function, batched=True, load_from_cache_file=True)\n",
    "train_dataset = datasets[\"train\"]\n",
    "eval_dataset = datasets[\"validation_matched\" if task_name == \"mnli\" else \"validation\"]\n",
    "test_dataset = datasets[\"test_matched\" if task_name == \"mnli\" else \"test\"]\n",
    "data_collator = default_data_collator\n",
    "\n",
    "tasks = [task_name]\n",
    "eval_datasets = [eval_dataset]\n",
    "if task_name == \"mnli\":\n",
    "    tasks.append(\"mnli-mm\")\n",
    "    eval_datasets.append(datasets[\"validation_mismatched\"])"
   ]
  },
  {
   "cell_type": "code",
   "execution_count": 14,
   "metadata": {},
   "outputs": [
    {
     "name": "stderr",
     "output_type": "stream",
     "text": [
      "Some weights of RobertaForSequenceClassification were not initialized from the model checkpoint at roberta-base and are newly initialized: ['classifier.dense.bias', 'classifier.dense.weight', 'classifier.out_proj.bias', 'classifier.out_proj.weight']\n",
      "You should probably TRAIN this model on a down-stream task to be able to use it for predictions and inference.\n"
     ]
    }
   ],
   "source": [
    "XLoRA_model_name = lora_model_dir\n",
    "XLoRA_model, tokenizer = load_model(\n",
    "    model_name=XLoRA_model_name,\n",
    "    device=\"cuda:0\",\n",
    "    dtype=torch.bfloat16,\n",
    "    load_xlora=True,\n",
    "    adapters={\n",
    "        \"adapter_1\": \"./lora_finetuned_model_cola\",\n",
    "        \"adapter_2\": \"./lora_finetuned_model_mrpc\",\n",
    "        \"adapter_3\": \"./lora_finetuned_model_qnli\",\n",
    "        \"adapter_4\": \"./lora_finetuned_model_sst2\",\n",
    "    },\n",
    ")"
   ]
  },
  {
   "cell_type": "code",
   "execution_count": null,
   "metadata": {},
   "outputs": [
    {
     "name": "stderr",
     "output_type": "stream",
     "text": [
      "No label_names provided for model class `PeftModel`. Since `PeftModel` hides base models input arguments, if label_names is not given, label_names can't be set automatically within `Trainer`. Note that empty label_names list will be used instead.\n"
     ]
    },
    {
     "name": "stdout",
     "output_type": "stream",
     "text": [
      "Evaluating task: mrpc\n"
     ]
    },
    {
     "data": {
      "text/html": [],
      "text/plain": [
       "<IPython.core.display.HTML object>"
      ]
     },
     "metadata": {},
     "output_type": "display_data"
    }
   ],
   "source": [
    "trainer = Trainer(\n",
    "    model=XLoRA_model,\n",
    "    args=TrainingArguments(\n",
    "        output_dir=\"./peft_test_results\",\n",
    "        report_to=\"none\",\n",
    "    ),\n",
    "    data_collator=data_collator,           \n",
    "    compute_metrics=compute_metrics\n",
    ")\n",
    "for dataset, task in zip(eval_datasets, tasks):\n",
    "    print(f\"Evaluating task: {task}\")\n",
    "    # Use trainer.predict to get model outputs and labels\n",
    "    eval_output = trainer.predict(dataset)\n",
    "    # If the model output is a tuple, we assume logits are in index 1.\n",
    "    logits = eval_output.predictions[1] if isinstance(eval_output.predictions, tuple) else eval_output.predictions\n",
    "    # For classification, take argmax over logits to get predicted class indices.\n",
    "    preds = np.argmax(logits, axis=1)\n",
    "    labels = dataset[\"label\"]\n",
    "    # print(f\"Predictions: {preds}\")  \n",
    "    # print(f\"Labels: {labels}\")\n",
    "\n",
    "    # Compute accuracy and F1 score manually using sklearn\n",
    "    acc = accuracy_score(labels, preds)\n",
    "    f1 = f1_score(labels, preds, average=\"macro\")\n",
    "    combined_score = (acc + f1) / 2\n",
    "    print(f\"Metrics for task {task}:\")\n",
    "    print({\"accuracy\": acc, \"f1\": f1, \"combined_score\": combined_score})\n",
    "    print(\"results for xlora eval\")"
   ]
  }
 ],
 "metadata": {
  "kernelspec": {
   "display_name": "Python (Docker)",
   "language": "python",
   "name": "docker_env"
  },
  "language_info": {
   "codemirror_mode": {
    "name": "ipython",
    "version": 3
   },
   "file_extension": ".py",
   "mimetype": "text/x-python",
   "name": "python",
   "nbconvert_exporter": "python",
   "pygments_lexer": "ipython3",
   "version": "3.10.11"
  }
 },
 "nbformat": 4,
 "nbformat_minor": 2
}
